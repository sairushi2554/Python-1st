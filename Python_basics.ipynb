{
  "nbformat": 4,
  "nbformat_minor": 0,
  "metadata": {
    "colab": {
      "name": "Python basics",
      "provenance": []
    },
    "kernelspec": {
      "name": "python3",
      "display_name": "Python 3"
    },
    "language_info": {
      "name": "python"
    }
  },
  "cells": [
    {
      "cell_type": "code",
      "execution_count": 1,
      "metadata": {
        "colab": {
          "base_uri": "https://localhost:8080/"
        },
        "id": "gaakbg7yG_SW",
        "outputId": "ee6cfcd9-1091-4203-8e62-2826538b805b"
      },
      "outputs": [
        {
          "output_type": "stream",
          "name": "stdout",
          "text": [
            "Addition= 31\n",
            "Substraction= -11\n",
            "Multiplication= 210\n",
            "Division= 0.47619047619047616\n",
            "Power= 1000000000000000000000\n",
            "Modulus= 10\n",
            "Floor Division = 0\n"
          ]
        }
      ],
      "source": [
        "x,y=10,21\n",
        "print(\"Addition=\",x+y)\n",
        "print(\"Substraction=\",x-y)\n",
        "print(\"Multiplication=\",x*y)\n",
        "print(\"Division=\",x/y)\n",
        "print(\"Power=\",x**y)\n",
        "print(\"Modulus=\",x%y)\n",
        "print(\"Floor Division =\",x//y)"
      ]
    }
  ]
}