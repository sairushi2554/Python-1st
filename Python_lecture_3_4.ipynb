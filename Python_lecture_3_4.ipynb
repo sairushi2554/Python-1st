{
  "nbformat": 4,
  "nbformat_minor": 0,
  "metadata": {
    "colab": {
      "name": "Python lecture 3-4.ipynb",
      "provenance": [],
      "collapsed_sections": [],
      "toc_visible": true
    },
    "kernelspec": {
      "name": "python3",
      "display_name": "Python 3"
    },
    "language_info": {
      "name": "python"
    }
  },
  "cells": [
    {
      "cell_type": "code",
      "execution_count": null,
      "metadata": {
        "colab": {
          "base_uri": "https://localhost:8080/"
        },
        "id": "5kkXeKSWcJCE",
        "outputId": "31690a64-d6a0-4b2c-e6fd-0dfe972567e6"
      },
      "outputs": [
        {
          "output_type": "stream",
          "name": "stdout",
          "text": [
            "Sairushi Gadakh\n"
          ]
        }
      ],
      "source": [
        "Name=\"Sairushi\"\n",
        "Surname=\"Gadakh\"\n",
        "print(Name+\" \"+Surname)"
      ]
    },
    {
      "cell_type": "code",
      "source": [
        "a=2.3\n",
        "print (type(a))\n",
        "int(a)   #covert to integer"
      ],
      "metadata": {
        "colab": {
          "base_uri": "https://localhost:8080/"
        },
        "id": "-s9sexyxcu4q",
        "outputId": "37945cd3-1d0d-42d6-8404-069d2c276e36"
      },
      "execution_count": null,
      "outputs": [
        {
          "output_type": "stream",
          "name": "stdout",
          "text": [
            "<class 'float'>\n"
          ]
        },
        {
          "output_type": "execute_result",
          "data": {
            "text/plain": [
              "2"
            ]
          },
          "metadata": {},
          "execution_count": 17
        }
      ]
    },
    {
      "cell_type": "code",
      "source": [
        "b=312\n",
        "print(type(b))\n",
        "float(b)  #convert to float"
      ],
      "metadata": {
        "colab": {
          "base_uri": "https://localhost:8080/"
        },
        "id": "ZY7P7afUc7AJ",
        "outputId": "ef61313d-9f75-4e09-afbd-110bec5a3fe2"
      },
      "execution_count": null,
      "outputs": [
        {
          "output_type": "stream",
          "name": "stdout",
          "text": [
            "<class 'int'>\n"
          ]
        },
        {
          "output_type": "execute_result",
          "data": {
            "text/plain": [
              "312.0"
            ]
          },
          "metadata": {},
          "execution_count": 18
        }
      ]
    },
    {
      "cell_type": "code",
      "source": [
        "c=3j\n",
        "print(type(c))\n",
        "int(c)  #convert to integer"
      ],
      "metadata": {
        "colab": {
          "base_uri": "https://localhost:8080/",
          "height": 333
        },
        "id": "LZ4vwrY4dEO2",
        "outputId": "49726815-8ada-4832-f46b-496c9540c667"
      },
      "execution_count": null,
      "outputs": [
        {
          "output_type": "stream",
          "name": "stdout",
          "text": [
            "<class 'complex'>\n"
          ]
        },
        {
          "output_type": "error",
          "ename": "TypeError",
          "evalue": "ignored",
          "traceback": [
            "\u001b[0;31m---------------------------------------------------------------------------\u001b[0m",
            "\u001b[0;31mTypeError\u001b[0m                                 Traceback (most recent call last)",
            "\u001b[0;32m<ipython-input-13-529ea5a69d56>\u001b[0m in \u001b[0;36m<module>\u001b[0;34m()\u001b[0m\n\u001b[1;32m      1\u001b[0m \u001b[0mc\u001b[0m\u001b[0;34m=\u001b[0m\u001b[0;36m3j\u001b[0m\u001b[0;34m\u001b[0m\u001b[0;34m\u001b[0m\u001b[0m\n\u001b[1;32m      2\u001b[0m \u001b[0mprint\u001b[0m\u001b[0;34m(\u001b[0m\u001b[0mtype\u001b[0m\u001b[0;34m(\u001b[0m\u001b[0mc\u001b[0m\u001b[0;34m)\u001b[0m\u001b[0;34m)\u001b[0m\u001b[0;34m\u001b[0m\u001b[0;34m\u001b[0m\u001b[0m\n\u001b[0;32m----> 3\u001b[0;31m \u001b[0mint\u001b[0m\u001b[0;34m(\u001b[0m\u001b[0mc\u001b[0m\u001b[0;34m)\u001b[0m  \u001b[0;31m#convert to integer\u001b[0m\u001b[0;34m\u001b[0m\u001b[0;34m\u001b[0m\u001b[0m\n\u001b[0m",
            "\u001b[0;31mTypeError\u001b[0m: can't convert complex to int"
          ]
        }
      ]
    },
    {
      "cell_type": "code",
      "source": [
        "complex(a)  #convert to complex"
      ],
      "metadata": {
        "colab": {
          "base_uri": "https://localhost:8080/"
        },
        "id": "UmCNpG7keR6U",
        "outputId": "f808ef4f-58ee-4e90-f385-92d42ddc2984"
      },
      "execution_count": null,
      "outputs": [
        {
          "output_type": "execute_result",
          "data": {
            "text/plain": [
              "(2.3+0j)"
            ]
          },
          "metadata": {},
          "execution_count": 14
        }
      ]
    },
    {
      "cell_type": "code",
      "source": [
        "complex(b)  #convert to complex"
      ],
      "metadata": {
        "colab": {
          "base_uri": "https://localhost:8080/"
        },
        "id": "grdpEtQzeUuN",
        "outputId": "eb928d87-3f2b-4a14-f02e-5c31ca3343b2"
      },
      "execution_count": null,
      "outputs": [
        {
          "output_type": "execute_result",
          "data": {
            "text/plain": [
              "(312+0j)"
            ]
          },
          "metadata": {},
          "execution_count": 15
        }
      ]
    },
    {
      "cell_type": "code",
      "source": [
        "complex(a,b)"
      ],
      "metadata": {
        "colab": {
          "base_uri": "https://localhost:8080/"
        },
        "id": "ix86GegCelzj",
        "outputId": "6b67181a-cf4c-400e-9f56-fd7b72ddaef1"
      },
      "execution_count": null,
      "outputs": [
        {
          "output_type": "execute_result",
          "data": {
            "text/plain": [
              "(2.3+312j)"
            ]
          },
          "metadata": {},
          "execution_count": 20
        }
      ]
    },
    {
      "cell_type": "code",
      "source": [
        "Name=\"Sairushi Nanasaheb Gadakh\"\n",
        "Age=\"20\"\n",
        "Class=\"TYBSc\"\n",
        "College=\"S P College\"\n",
        "myself=\"My name is {} , I'm {} years old and I am student of {} studying in {}\"\n",
        "print(myself.format(Name,Age,Class,College))"
      ],
      "metadata": {
        "colab": {
          "base_uri": "https://localhost:8080/"
        },
        "id": "bv8w-ZMyi6QH",
        "outputId": "c611e06c-f579-4f8f-b137-bc1c0a81cc5a"
      },
      "execution_count": null,
      "outputs": [
        {
          "output_type": "stream",
          "name": "stdout",
          "text": [
            "My name is Sairushi Nanasaheb Gadakh , I'm 20 years old and I am student of TYBSc studying in S P College\n"
          ]
        }
      ]
    },
    {
      "cell_type": "code",
      "source": [
        "Name=\"Sairushi Nanasaheb Gadakh\"\n",
        "Age=\"20\"\n",
        "Class=\"TYBSc\"\n",
        "College=\"S P College\"\n",
        "myself=\"My name is {a} , I'm {b} years old and I am student of {c} studying in {d}.\"\n",
        "print(myself.format(a=Name,c=Class,b=Age,d=College))"
      ],
      "metadata": {
        "colab": {
          "base_uri": "https://localhost:8080/"
        },
        "id": "UshibHQampL6",
        "outputId": "a239214d-58d3-483a-f5b7-13b3827e8dd4"
      },
      "execution_count": null,
      "outputs": [
        {
          "output_type": "stream",
          "name": "stdout",
          "text": [
            "My name is Sairushi Nanasaheb Gadakh , I'm 20 years old and I am student of TYBSc studying in S P College.\n"
          ]
        }
      ]
    }
  ]
}