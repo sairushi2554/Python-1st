{
 "cells": [
  {
   "cell_type": "code",
   "execution_count": null,
   "id": "def2c4ef",
   "metadata": {},
   "outputs": [],
   "source": []
  },
  {
   "cell_type": "code",
   "execution_count": null,
   "id": "380018e6",
   "metadata": {},
   "outputs": [],
   "source": [
    "# Rock paper sissor\n",
    "# Guessing game"
   ]
  },
  {
   "cell_type": "code",
   "execution_count": null,
   "id": "e143cc8b",
   "metadata": {},
   "outputs": [],
   "source": [
    "# Guessing game"
   ]
  },
  {
   "cell_type": "code",
   "execution_count": null,
   "id": "0a7a37c8",
   "metadata": {},
   "outputs": [],
   "source": [
    "# 1. python will guess one game in a range of 1 to 50\n",
    "# 2. takeusers input in UserNum\n",
    "# 3. if UserNum is near +-10 digits to the actual number give 10 points.\n",
    "# 4. else if UserNum is near +-5 digits to the actual number give 25 points.\n",
    "# 5. else if number is exactly the same give 50 points\n",
    "# 6. show the output and score."
   ]
  },
  {
   "cell_type": "code",
   "execution_count": 1,
   "id": "d2d2f711",
   "metadata": {},
   "outputs": [],
   "source": [
    "import random"
   ]
  },
  {
   "cell_type": "code",
   "execution_count": 2,
   "id": "8495ff10",
   "metadata": {},
   "outputs": [
    {
     "data": {
      "text/plain": [
       "18"
      ]
     },
     "execution_count": 2,
     "metadata": {},
     "output_type": "execute_result"
    }
   ],
   "source": [
    "random.randint(1,50)"
   ]
  },
  {
   "cell_type": "code",
   "execution_count": 3,
   "id": "617451c8",
   "metadata": {},
   "outputs": [
    {
     "name": "stdout",
     "output_type": "stream",
     "text": [
      "8\n",
      "14\n",
      "40\n",
      "20\n",
      "30\n",
      "20\n",
      "4\n",
      "40\n",
      "30\n",
      "21\n"
     ]
    }
   ],
   "source": [
    "for i in range(10):\n",
    "    print(random.randint(1,50))"
   ]
  },
  {
   "cell_type": "code",
   "execution_count": 4,
   "id": "a9d52370",
   "metadata": {},
   "outputs": [
    {
     "name": "stdout",
     "output_type": "stream",
     "text": [
      "Enter one number between 1 to 50 -8\n"
     ]
    }
   ],
   "source": [
    "userNum=input(\"Enter one number between 1 to 50 -\")"
   ]
  },
  {
   "cell_type": "code",
   "execution_count": 5,
   "id": "f530a59d",
   "metadata": {},
   "outputs": [
    {
     "data": {
      "text/plain": [
       "'8'"
      ]
     },
     "execution_count": 5,
     "metadata": {},
     "output_type": "execute_result"
    }
   ],
   "source": [
    "userNum"
   ]
  },
  {
   "cell_type": "code",
   "execution_count": 6,
   "id": "e2302722",
   "metadata": {},
   "outputs": [
    {
     "data": {
      "text/plain": [
       "str"
      ]
     },
     "execution_count": 6,
     "metadata": {},
     "output_type": "execute_result"
    }
   ],
   "source": [
    "type(userNum)"
   ]
  },
  {
   "cell_type": "code",
   "execution_count": 7,
   "id": "55690324",
   "metadata": {},
   "outputs": [
    {
     "data": {
      "text/plain": [
       "8"
      ]
     },
     "execution_count": 7,
     "metadata": {},
     "output_type": "execute_result"
    }
   ],
   "source": [
    "int(userNum)    # typecasting"
   ]
  },
  {
   "cell_type": "code",
   "execution_count": 8,
   "id": "9062465e",
   "metadata": {},
   "outputs": [],
   "source": [
    "import random\n",
    "def guessGame():\n",
    "    \n",
    "    playAgain = 'y'\n",
    "    \n",
    "    while playAgain == 'y':  \n",
    "    \n",
    "            score=0\n",
    "            computerNum=random.randint(1,50)\n",
    "            userNum=int(input(\"\\nEnter one number between 1 to 50-\"))\n",
    "\n",
    "            diff=computerNum-userNum\n",
    "            if diff==0:\n",
    "                print(\"Its the same number, wow you got 50 points.\")\n",
    "                score=score+50\n",
    "                print(\"Your updated score is \",score)\n",
    "            elif diff>=-5 and diff<=5:\n",
    "                print(\"This number is very close to real number.\")\n",
    "                print(\"UserNum=\",userNum)\n",
    "                print(\"ComputerNum =\",computerNum)\n",
    "                score=score+25\n",
    "                print(\"Your updated score is\",score)\n",
    "            elif diff>=-10 and diff<=10:\n",
    "                print(\"This number is  close to real number.\")\n",
    "                print(\"UserNum=\",userNum)\n",
    "                print(\"ComputerNum =\",computerNum)\n",
    "                score=score+10\n",
    "                print(\"Your updated score is\",score) \n",
    "            else:\n",
    "                print(\"Sorry your guess didn't make it.\")\n",
    "                print(\"UserNum=\",userNum)\n",
    "                print(\"ComputerNum =\",computerNum)\n",
    "                \n",
    "            playAgain=input(\"\\nDo you want to play again 'y/n'\")         "
   ]
  },
  {
   "cell_type": "code",
   "execution_count": 9,
   "id": "10e55882",
   "metadata": {},
   "outputs": [],
   "source": [
    "def playAgain():           # recursive functio\n",
    "    pg=input(\"\\nDo you want to play again 'y/n'\")\n",
    "    if pg=='y' or pg =='n':\n",
    "        return pg \n",
    "    else:\n",
    "        return playAgain()"
   ]
  },
  {
   "cell_type": "markdown",
   "id": "f22480fc",
   "metadata": {},
   "source": [
    "##### guessGame()"
   ]
  },
  {
   "cell_type": "markdown",
   "id": "2ad180be",
   "metadata": {},
   "source": [
    "## guessGame()"
   ]
  },
  {
   "cell_type": "code",
   "execution_count": null,
   "id": "575ab49a",
   "metadata": {},
   "outputs": [],
   "source": []
  },
  {
   "cell_type": "code",
   "execution_count": null,
   "id": "313f9e86",
   "metadata": {},
   "outputs": [],
   "source": []
  }
 ],
 "metadata": {
  "kernelspec": {
   "display_name": "Python 3 (ipykernel)",
   "language": "python",
   "name": "python3"
  },
  "language_info": {
   "codemirror_mode": {
    "name": "ipython",
    "version": 3
   },
   "file_extension": ".py",
   "mimetype": "text/x-python",
   "name": "python",
   "nbconvert_exporter": "python",
   "pygments_lexer": "ipython3",
   "version": "3.9.12"
  }
 },
 "nbformat": 4,
 "nbformat_minor": 5
}
